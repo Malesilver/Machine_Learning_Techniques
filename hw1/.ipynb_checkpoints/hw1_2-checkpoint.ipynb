{
 "cells": [
  {
   "cell_type": "code",
   "execution_count": 7,
   "metadata": {},
   "outputs": [
    {
     "data": {
      "image/png": "[encoded data removed]",
      "text/plain": [
       "<matplotlib.figure.Figure at 0x1a14222e48>"
      ]
     },
     "metadata": {},
     "output_type": "display_data"
    },
    {
     "name": "stdout",
     "output_type": "stream",
     "text": [
      "[[-0.21970141 -0.28015714  0.33323258  0.06819373  0.09843225]] [-1.66633495] [1 2 3 4 5]\n"
     ]
    }
   ],
   "source": [
    "import numpy as np\n",
    "import matplotlib.pyplot as plt\n",
    "from sklearn.svm import SVC\n",
    "\n",
    "#2\n",
    "X = np.array([[1, 0], [0, 1], [0, -1], [-1, 0], [0, 2], [0, -2], [-2, 0]])\n",
    "Y = np.array([-1, -1, -1, 1, 1, 1, 1])\n",
    "row, col = X.shape\n",
    "z = np.zeros(X.shape)\n",
    "z[:, 0] = 2*X[:, 1]**2-4*X[:, 0]+2\n",
    "z[:, 1] = X[:, 0]**2-2*X[:, 1]-1\n",
    "pos1 = Y == -1; pos2 = Y == 1\n",
    "plt.plot(z[pos1, 0], z[pos1, 1], 'x', z[pos2, 0], z[pos2, 1], 'o')\n",
    "plt.show()\n",
    "#l1x = [4, 4]; l1y = [-7.5, 1.5]\n",
    "#l2x = [5, 5]; l2y = [-7.5, 1.5]\n",
    "#plt.plot(l1x, l1y, '--',l2x, l2y, '--')\n",
    "\n",
    "#3\n",
    "clf = SVC(C=1e10, kernel='poly', degree=2, gamma=2, coef0=1, shrinking=False)\n",
    "clf.fit(X, Y)\n",
    "print(clf.dual_coef_, clf.intercept_, clf.support_)"
   ]
  },
  {
   "cell_type": "code",
   "execution_count": null,
   "metadata": {
    "collapsed": true
   },
   "outputs": [],
   "source": []
  }
 ],
 "metadata": {
  "kernelspec": {
   "display_name": "Python 3",
   "language": "python",
   "name": "python3"
  },
  "language_info": {
   "codemirror_mode": {
    "name": "ipython",
    "version": 3
   },
   "file_extension": ".py",
   "mimetype": "text/x-python",
   "name": "python",
   "nbconvert_exporter": "python",
   "pygments_lexer": "ipython3",
   "version": "3.6.2"
  }
 },
 "nbformat": 4,
 "nbformat_minor": 2
}
